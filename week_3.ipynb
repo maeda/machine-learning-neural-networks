{
 "cells": [
  {
   "cell_type": "markdown",
   "metadata": {},
   "source": [
    "# Perceptrons"
   ]
  },
  {
   "cell_type": "markdown",
   "metadata": {},
   "source": [
    "## The standard paradigm for statistical pattern recognition\n",
    "\n",
    "1. Convert raw input vector into a vector of features activations\n",
    "- use hand-written programs based on commons sense to definethe features\n",
    "\n",
    "2. Define how to weight each of feature activations to get a single scalar quantity\n",
    "3. If this quantity is above some threshold, decide that the input vector is a positive example of the target class"
   ]
  },
  {
   "cell_type": "markdown",
   "metadata": {},
   "source": [
    "## The history of perceptrons\n",
    "\n",
    "- They were popularised by Frank Rosenblatt in the early 1960's\n",
    "    - They appeared to have a very powerful learning algorithm\n",
    "    - A lot of grand claims were made for what they could learn to do\n",
    "- In 1969, Minsky and Papert published a book called \"Perceptrons\" that analysed what they could do and showed their limitations\n",
    "    - Many people thought these limitations applied to all neural network models\n",
    "- The perceptron learning procedure is widely used today for taskswith enormous feature vectors that contain many milions of features"
   ]
  },
  {
   "cell_type": "markdown",
   "metadata": {},
   "source": [
    "## Binary threshold neurons (decision units)\n",
    "\n",
    "# McCulloch-Pitts (1943)\n",
    "\n",
    "- First compute a weighted sum of the inputs from other neurons (plus a bias)\n",
    "- Then output a 1 if the weight sum exceeds zero\n",
    "\n",
    "$z = b + \\displaystyle\\sum_{i}x_iw_i$\n",
    "\n",
    "$ y = \\begin{cases} 1 & \\quad \\text{if } z \\geq 0 \\\\ 0 & \\quad \\text{otherwise} \\end{cases} $ "
   ]
  },
  {
   "cell_type": "code",
   "execution_count": 16,
   "metadata": {
    "collapsed": false
   },
   "outputs": [],
   "source": [
    "import pandas as pd\n",
    "import numpy as np\n",
    "import matplotlib.pyplot as plt\n",
    "\n",
    "def binary_threshold(z):\n",
    "    return 1 if z >= 0 else 0\n",
    "\n",
    "def binary_neuron(b, x, w = [-1,1,1], threshold = binary_threshold):\n",
    "    if len(x) != len(w):\n",
    "        raise ValueError(\"length of x and w are diferent\")\n",
    "    z = b + sum([x[i] * w[i] for i in range(len(x))])\n",
    "    y = threshold(z)\n",
    "    return y, z"
   ]
  },
  {
   "cell_type": "code",
   "execution_count": 28,
   "metadata": {
    "collapsed": false
   },
   "outputs": [],
   "source": [
    "assert binary_neuron(1, [1,0,1]) == (1,1)"
   ]
  },
  {
   "cell_type": "code",
   "execution_count": 29,
   "metadata": {
    "collapsed": false
   },
   "outputs": [],
   "source": [
    "assert binary_neuron(1, [1,-1,1]) == (1,0)"
   ]
  },
  {
   "cell_type": "code",
   "execution_count": 30,
   "metadata": {
    "collapsed": false
   },
   "outputs": [],
   "source": [
    "assert binary_neuron(1, [1,-2,1]) == (0,-1)"
   ]
  },
  {
   "cell_type": "code",
   "execution_count": 10,
   "metadata": {
    "collapsed": false
   },
   "outputs": [
    {
     "data": {
      "image/png": "[encoded data removed]",
      "text/plain": [
       "<matplotlib.figure.Figure at 0x112e75ba8>"
      ]
     },
     "metadata": {},
     "output_type": "display_data"
    }
   ],
   "source": [
    "plt.plot([-1,0,0,1],[0,0,1,1])\n",
    "plt.axis([-1,1,-0.1,1.1])\n",
    "plt.grid(True)\n",
    "plt.show()"
   ]
  },
  {
   "cell_type": "markdown",
   "metadata": {},
   "source": [
    "## How to learn biases using the same rule as we use for learning weights\n",
    "\n",
    "- a threashold is equivalent to having a negative bias\n",
    "- we can avoid having to figure out a separated learning rule for the bias by using a trick:\n",
    "    - A bias is exactly equivalent to a weight on an extra input line that always has an activity of 1\n",
    "    - We can now learn a bias as if it were a weight "
   ]
  },
  {
   "cell_type": "markdown",
   "metadata": {},
   "source": [
    "## The perceptron convergence procedure: Training binary output neurons as classifiers\n",
    "\n",
    "- Add an extra component with value 1 to each input vector. The \"bias\" weight on this component is minus the threshold. Now we can forget the threshold.\n",
    "- Pick training cases using any policy that ensures that every training case will keep getting picked\n",
    "    - If the output unit is correct, leave its weights alone\n",
    "    - If the output unit incorrectly outputs a zero, add the input vector to the weight vector\n",
    "    - If the output unit incorrectly outputs a 1, subtract the input vector from the weight vector\n",
    "- This is guaranteed to find a set of weights that gets the right answer for all the training cases **if any such set exists**"
   ]
  },
  {
   "cell_type": "code",
   "execution_count": 83,
   "metadata": {
    "collapsed": false
   },
   "outputs": [],
   "source": [
    "def learn_biases(b, resulted_y, expected_y, actual_w, x):\n",
    "    if resulted_y == expected_y:\n",
    "        return expected_y\n",
    "    \n",
    "    w_b = list(actual_w)\n",
    "    w_b.append(b)\n",
    "    \n",
    "    x_1 = list(x)\n",
    "    x_1.append(1)\n",
    "    \n",
    "    # (w,b) <- (w,b) - (x,1)\n",
    "    return (np.subtract(w_b, x_1).tolist() if resulted_y > expected_y else np.add(w_b, x_1).tolist())\n",
    "\n",
    "assert learn_biases(b=1, resulted_y=0, expected_y=1, actual_w=[1,1,1], x=[1,1,1]) == [2,2,2,2]"
   ]
  },
  {
   "cell_type": "code",
   "execution_count": 84,
   "metadata": {
    "collapsed": false
   },
   "outputs": [],
   "source": [
    "x=[0.5,-0.5]\n",
    "expected_y=0\n",
    "actual_w=[2,-1]\n",
    "b=0.5\n",
    "resulted_y = binary_neuron(b=b, x=x, w=actual_w)\n",
    "\n",
    "assert resulted_y == (1, 2.0)\n",
    "\n",
    "assert learn_biases(b, resulted_y[1], expected_y, actual_w, x) == [1.5, -0.5, -0.5]"
   ]
  },
  {
   "cell_type": "code",
   "execution_count": null,
   "metadata": {
    "collapsed": true
   },
   "outputs": [],
   "source": []
  }
 ],
 "metadata": {
  "anaconda-cloud": {},
  "kernelspec": {
   "display_name": "Python [default]",
   "language": "python",
   "name": "python3"
  },
  "language_info": {
   "codemirror_mode": {
    "name": "ipython",
    "version": 3
   },
   "file_extension": ".py",
   "mimetype": "text/x-python",
   "name": "python",
   "nbconvert_exporter": "python",
   "pygments_lexer": "ipython3",
   "version": "3.5.2"
  }
 },
 "nbformat": 4,
 "nbformat_minor": 1
}
